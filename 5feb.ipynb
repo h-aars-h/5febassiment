{
 "cells": [
  {
   "cell_type": "code",
   "execution_count": 1,
   "id": "8ebfb124-a505-4dc3-8fd6-9043ba417b49",
   "metadata": {},
   "outputs": [],
   "source": [
    "# Q1 Q1. Explain Class and Object with respect to Object-Oriented Programming. Give a suitable example.\n",
    "#ans 1 A class is a blueprint for creating objects. It defines a set of attributes and behaviors and An object is an instance of a class. \n",
    "# example : -When you create an object from a class ex class is just r a class \"Car\". The class \"Car\" might have attributes such as \"make\",\n",
    "# \"model\", \"year\""
   ]
  },
  {
   "cell_type": "code",
   "execution_count": 3,
   "id": "15c77111-538a-438d-8a5a-3840bf9ce865",
   "metadata": {},
   "outputs": [],
   "source": [
    "# Q2.  Name the four pillars of OOPs.\n",
    "#ans 2 The Four Pillars of Object-Oriented Programming\n",
    "# Abstraction.\n",
    "# Encapsulation.\n",
    "# Inheritance.\n",
    "# Polymorphism."
   ]
  },
  {
   "cell_type": "code",
   "execution_count": 7,
   "id": "f38dd9e3-15dd-442f-9260-c5e90e8cc4c7",
   "metadata": {},
   "outputs": [
    {
     "data": {
      "text/plain": [
       "('hknitu28@gmail.com', 99498484943)"
      ]
     },
     "execution_count": 7,
     "metadata": {},
     "output_type": "execute_result"
    }
   ],
   "source": [
    "# Q3. Explain why the __init__() function is used. Give a suitable example.\n",
    "# Ans3 = this function is use to connect to class example\n",
    "class pwskills:\n",
    "    def __init__(self,mail_id,phone_no):\n",
    "        self.mail_id=mail_id\n",
    "        self.phone_no=phone_no\n",
    "    def student_details(self):\n",
    "        return self.mail_id,self.phone_no\n",
    "harsh=pwskills(\"hknitu28@gmail.com\",99498484943)\n",
    "harsh.student_details()"
   ]
  },
  {
   "cell_type": "code",
   "execution_count": 8,
   "id": "37a79ca8-13f1-4542-a4ba-75f383b1b75c",
   "metadata": {},
   "outputs": [],
   "source": [
    "# Q4. Why self is used in OOPs?\n",
    "# self is not reserved keyword any keyword i use but as self as to connect to function to class."
   ]
  },
  {
   "cell_type": "code",
   "execution_count": null,
   "id": "b654a3e1-f477-461d-8bef-292f7fd5498f",
   "metadata": {},
   "outputs": [],
   "source": [
    "# Q5. What is inheritance? Give an example for each type of inheritance.\n",
    "# Inheritance is a mechanism in Object-Oriented Programming (OOP) that allows you to create a new class based on an existing class.\n",
    "# Single inheritance: This is the simplest form of inheritance, where a child class inherits from a single parent class.\n",
    "# Multiple inheritance: This is a type of inheritance where a child class inherits from multiple parent classes.\n",
    "# Multi-level inheritance: This is a type of inheritance where a child class inherits from a parent class, which itself inherits from another parent \n",
    "# class.\n",
    "# Hierarchical inheritance: This is a type of inheritance where multiple child classes inherit from a single parent class."
   ]
  }
 ],
 "metadata": {
  "kernelspec": {
   "display_name": "Python 3 (ipykernel)",
   "language": "python",
   "name": "python3"
  },
  "language_info": {
   "codemirror_mode": {
    "name": "ipython",
    "version": 3
   },
   "file_extension": ".py",
   "mimetype": "text/x-python",
   "name": "python",
   "nbconvert_exporter": "python",
   "pygments_lexer": "ipython3",
   "version": "3.10.6"
  }
 },
 "nbformat": 4,
 "nbformat_minor": 5
}
